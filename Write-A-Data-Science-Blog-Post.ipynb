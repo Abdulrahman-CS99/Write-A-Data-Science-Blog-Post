{
 "cells": [
  {
   "attachments": {
    "Screenshot%20%2891%29.png": {
     "image/png": "[encoded data removed]"
    }
   },
   "cell_type": "markdown",
   "id": "ceb62828",
   "metadata": {},
   "source": [
    "![Screenshot%20%2891%29.png](attachment:Screenshot%20%2891%29.png)"
   ]
  },
  {
   "cell_type": "code",
   "execution_count": 1,
   "id": "f77b221e",
   "metadata": {},
   "outputs": [],
   "source": [
    "import pandas as pd \n",
    "import numpy as np\n",
    "import matplotlib.pyplot as plt\n",
    "from collections import Counter\n",
    "%matplotlib inline"
   ]
  },
  {
   "cell_type": "markdown",
   "id": "8026caca",
   "metadata": {},
   "source": [
    "## Business Understanding "
   ]
  },
  {
   "cell_type": "markdown",
   "id": "70ce301f",
   "metadata": {},
   "source": [
    "1- What is the famous programming language according to 2019 Stackoverflow survey?  <br>\n",
    "2- What are the top 5 countries that pay for programmers   <br>\n",
    "3- Is money related to satisfaction in the top 5 countries?  <br> \n"
   ]
  },
  {
   "cell_type": "markdown",
   "id": "3faacd23",
   "metadata": {},
   "source": [
    "## Data Understanding \n"
   ]
  },
  {
   "cell_type": "markdown",
   "id": "3f89b870",
   "metadata": {},
   "source": [
    "## Gather data"
   ]
  },
  {
   "cell_type": "code",
   "execution_count": 2,
   "id": "8f19286a",
   "metadata": {},
   "outputs": [],
   "source": [
    "df_2019=pd.read_csv('developer_survey_2019/developer_survey_2019.csv')# Read the dataset\n",
    "df_schema= pd.read_csv('developer_survey_2019/survey_results_schema.csv')# Read the dataset"
   ]
  },
  {
   "cell_type": "code",
   "execution_count": 3,
   "id": "31bd98a6",
   "metadata": {},
   "outputs": [
    {
     "data": {
      "text/html": [
       "<div>\n",
       "<style scoped>\n",
       "    .dataframe tbody tr th:only-of-type {\n",
       "        vertical-align: middle;\n",
       "    }\n",
       "\n",
       "    .dataframe tbody tr th {\n",
       "        vertical-align: top;\n",
       "    }\n",
       "\n",
       "    .dataframe thead th {\n",
       "        text-align: right;\n",
       "    }\n",
       "</style>\n",
       "<table border=\"1\" class=\"dataframe\">\n",
       "  <thead>\n",
       "    <tr style=\"text-align: right;\">\n",
       "      <th></th>\n",
       "      <th>Respondent</th>\n",
       "      <th>MainBranch</th>\n",
       "      <th>Hobbyist</th>\n",
       "      <th>OpenSourcer</th>\n",
       "      <th>OpenSource</th>\n",
       "      <th>Employment</th>\n",
       "      <th>Country</th>\n",
       "      <th>Student</th>\n",
       "      <th>EdLevel</th>\n",
       "      <th>UndergradMajor</th>\n",
       "      <th>...</th>\n",
       "      <th>WelcomeChange</th>\n",
       "      <th>SONewContent</th>\n",
       "      <th>Age</th>\n",
       "      <th>Gender</th>\n",
       "      <th>Trans</th>\n",
       "      <th>Sexuality</th>\n",
       "      <th>Ethnicity</th>\n",
       "      <th>Dependents</th>\n",
       "      <th>SurveyLength</th>\n",
       "      <th>SurveyEase</th>\n",
       "    </tr>\n",
       "  </thead>\n",
       "  <tbody>\n",
       "    <tr>\n",
       "      <th>0</th>\n",
       "      <td>1</td>\n",
       "      <td>I am a student who is learning to code</td>\n",
       "      <td>Yes</td>\n",
       "      <td>Never</td>\n",
       "      <td>The quality of OSS and closed source software ...</td>\n",
       "      <td>Not employed, and not looking for work</td>\n",
       "      <td>United Kingdom</td>\n",
       "      <td>No</td>\n",
       "      <td>Primary/elementary school</td>\n",
       "      <td>NaN</td>\n",
       "      <td>...</td>\n",
       "      <td>Just as welcome now as I felt last year</td>\n",
       "      <td>Tech articles written by other developers;Indu...</td>\n",
       "      <td>14.0</td>\n",
       "      <td>Man</td>\n",
       "      <td>No</td>\n",
       "      <td>Straight / Heterosexual</td>\n",
       "      <td>NaN</td>\n",
       "      <td>No</td>\n",
       "      <td>Appropriate in length</td>\n",
       "      <td>Neither easy nor difficult</td>\n",
       "    </tr>\n",
       "    <tr>\n",
       "      <th>1</th>\n",
       "      <td>2</td>\n",
       "      <td>I am a student who is learning to code</td>\n",
       "      <td>No</td>\n",
       "      <td>Less than once per year</td>\n",
       "      <td>The quality of OSS and closed source software ...</td>\n",
       "      <td>Not employed, but looking for work</td>\n",
       "      <td>Bosnia and Herzegovina</td>\n",
       "      <td>Yes, full-time</td>\n",
       "      <td>Secondary school (e.g. American high school, G...</td>\n",
       "      <td>NaN</td>\n",
       "      <td>...</td>\n",
       "      <td>Just as welcome now as I felt last year</td>\n",
       "      <td>Tech articles written by other developers;Indu...</td>\n",
       "      <td>19.0</td>\n",
       "      <td>Man</td>\n",
       "      <td>No</td>\n",
       "      <td>Straight / Heterosexual</td>\n",
       "      <td>NaN</td>\n",
       "      <td>No</td>\n",
       "      <td>Appropriate in length</td>\n",
       "      <td>Neither easy nor difficult</td>\n",
       "    </tr>\n",
       "    <tr>\n",
       "      <th>2</th>\n",
       "      <td>3</td>\n",
       "      <td>I am not primarily a developer, but I write co...</td>\n",
       "      <td>Yes</td>\n",
       "      <td>Never</td>\n",
       "      <td>The quality of OSS and closed source software ...</td>\n",
       "      <td>Employed full-time</td>\n",
       "      <td>Thailand</td>\n",
       "      <td>No</td>\n",
       "      <td>Bachelor’s degree (BA, BS, B.Eng., etc.)</td>\n",
       "      <td>Web development or web design</td>\n",
       "      <td>...</td>\n",
       "      <td>Just as welcome now as I felt last year</td>\n",
       "      <td>Tech meetups or events in your area;Courses on...</td>\n",
       "      <td>28.0</td>\n",
       "      <td>Man</td>\n",
       "      <td>No</td>\n",
       "      <td>Straight / Heterosexual</td>\n",
       "      <td>NaN</td>\n",
       "      <td>Yes</td>\n",
       "      <td>Appropriate in length</td>\n",
       "      <td>Neither easy nor difficult</td>\n",
       "    </tr>\n",
       "  </tbody>\n",
       "</table>\n",
       "<p>3 rows × 85 columns</p>\n",
       "</div>"
      ],
      "text/plain": [
       "   Respondent                                         MainBranch Hobbyist  \\\n",
       "0           1             I am a student who is learning to code      Yes   \n",
       "1           2             I am a student who is learning to code       No   \n",
       "2           3  I am not primarily a developer, but I write co...      Yes   \n",
       "\n",
       "               OpenSourcer                                         OpenSource  \\\n",
       "0                    Never  The quality of OSS and closed source software ...   \n",
       "1  Less than once per year  The quality of OSS and closed source software ...   \n",
       "2                    Never  The quality of OSS and closed source software ...   \n",
       "\n",
       "                               Employment                 Country  \\\n",
       "0  Not employed, and not looking for work          United Kingdom   \n",
       "1      Not employed, but looking for work  Bosnia and Herzegovina   \n",
       "2                      Employed full-time                Thailand   \n",
       "\n",
       "          Student                                            EdLevel  \\\n",
       "0              No                          Primary/elementary school   \n",
       "1  Yes, full-time  Secondary school (e.g. American high school, G...   \n",
       "2              No           Bachelor’s degree (BA, BS, B.Eng., etc.)   \n",
       "\n",
       "                  UndergradMajor  ...  \\\n",
       "0                            NaN  ...   \n",
       "1                            NaN  ...   \n",
       "2  Web development or web design  ...   \n",
       "\n",
       "                             WelcomeChange  \\\n",
       "0  Just as welcome now as I felt last year   \n",
       "1  Just as welcome now as I felt last year   \n",
       "2  Just as welcome now as I felt last year   \n",
       "\n",
       "                                        SONewContent   Age Gender Trans  \\\n",
       "0  Tech articles written by other developers;Indu...  14.0    Man    No   \n",
       "1  Tech articles written by other developers;Indu...  19.0    Man    No   \n",
       "2  Tech meetups or events in your area;Courses on...  28.0    Man    No   \n",
       "\n",
       "                 Sexuality Ethnicity Dependents           SurveyLength  \\\n",
       "0  Straight / Heterosexual       NaN         No  Appropriate in length   \n",
       "1  Straight / Heterosexual       NaN         No  Appropriate in length   \n",
       "2  Straight / Heterosexual       NaN        Yes  Appropriate in length   \n",
       "\n",
       "                   SurveyEase  \n",
       "0  Neither easy nor difficult  \n",
       "1  Neither easy nor difficult  \n",
       "2  Neither easy nor difficult  \n",
       "\n",
       "[3 rows x 85 columns]"
      ]
     },
     "execution_count": 3,
     "metadata": {},
     "output_type": "execute_result"
    }
   ],
   "source": [
    "df_2019.head(3)# printing first 3 rows"
   ]
  },
  {
   "cell_type": "markdown",
   "id": "d7a555ce",
   "metadata": {},
   "source": [
    "## Assess Data"
   ]
  },
  {
   "cell_type": "code",
   "execution_count": 4,
   "id": "d4003270",
   "metadata": {},
   "outputs": [
    {
     "data": {
      "text/plain": [
       "(88883, 85)"
      ]
     },
     "execution_count": 4,
     "metadata": {},
     "output_type": "execute_result"
    }
   ],
   "source": [
    "df_2019.shape #printing the rows and the columns of the dataframe"
   ]
  },
  {
   "cell_type": "code",
   "execution_count": 5,
   "id": "78b62647",
   "metadata": {},
   "outputs": [
    {
     "data": {
      "text/html": [
       "<div>\n",
       "<style scoped>\n",
       "    .dataframe tbody tr th:only-of-type {\n",
       "        vertical-align: middle;\n",
       "    }\n",
       "\n",
       "    .dataframe tbody tr th {\n",
       "        vertical-align: top;\n",
       "    }\n",
       "\n",
       "    .dataframe thead th {\n",
       "        text-align: right;\n",
       "    }\n",
       "</style>\n",
       "<table border=\"1\" class=\"dataframe\">\n",
       "  <thead>\n",
       "    <tr style=\"text-align: right;\">\n",
       "      <th></th>\n",
       "      <th>Respondent</th>\n",
       "      <th>CompTotal</th>\n",
       "      <th>ConvertedComp</th>\n",
       "      <th>WorkWeekHrs</th>\n",
       "      <th>CodeRevHrs</th>\n",
       "      <th>Age</th>\n",
       "    </tr>\n",
       "  </thead>\n",
       "  <tbody>\n",
       "    <tr>\n",
       "      <th>count</th>\n",
       "      <td>88883.000000</td>\n",
       "      <td>5.594500e+04</td>\n",
       "      <td>5.582300e+04</td>\n",
       "      <td>64503.000000</td>\n",
       "      <td>49790.000000</td>\n",
       "      <td>79210.000000</td>\n",
       "    </tr>\n",
       "    <tr>\n",
       "      <th>mean</th>\n",
       "      <td>44442.000000</td>\n",
       "      <td>5.519014e+11</td>\n",
       "      <td>1.271107e+05</td>\n",
       "      <td>42.127197</td>\n",
       "      <td>5.084308</td>\n",
       "      <td>30.336699</td>\n",
       "    </tr>\n",
       "    <tr>\n",
       "      <th>std</th>\n",
       "      <td>25658.456325</td>\n",
       "      <td>7.331926e+13</td>\n",
       "      <td>2.841523e+05</td>\n",
       "      <td>37.287610</td>\n",
       "      <td>5.513931</td>\n",
       "      <td>9.178390</td>\n",
       "    </tr>\n",
       "    <tr>\n",
       "      <th>min</th>\n",
       "      <td>1.000000</td>\n",
       "      <td>0.000000e+00</td>\n",
       "      <td>0.000000e+00</td>\n",
       "      <td>1.000000</td>\n",
       "      <td>0.000000</td>\n",
       "      <td>1.000000</td>\n",
       "    </tr>\n",
       "    <tr>\n",
       "      <th>25%</th>\n",
       "      <td>22221.500000</td>\n",
       "      <td>2.000000e+04</td>\n",
       "      <td>2.577750e+04</td>\n",
       "      <td>40.000000</td>\n",
       "      <td>2.000000</td>\n",
       "      <td>24.000000</td>\n",
       "    </tr>\n",
       "    <tr>\n",
       "      <th>50%</th>\n",
       "      <td>44442.000000</td>\n",
       "      <td>6.200000e+04</td>\n",
       "      <td>5.728700e+04</td>\n",
       "      <td>40.000000</td>\n",
       "      <td>4.000000</td>\n",
       "      <td>29.000000</td>\n",
       "    </tr>\n",
       "    <tr>\n",
       "      <th>75%</th>\n",
       "      <td>66662.500000</td>\n",
       "      <td>1.200000e+05</td>\n",
       "      <td>1.000000e+05</td>\n",
       "      <td>44.750000</td>\n",
       "      <td>6.000000</td>\n",
       "      <td>35.000000</td>\n",
       "    </tr>\n",
       "    <tr>\n",
       "      <th>max</th>\n",
       "      <td>88883.000000</td>\n",
       "      <td>1.000000e+16</td>\n",
       "      <td>2.000000e+06</td>\n",
       "      <td>4850.000000</td>\n",
       "      <td>99.000000</td>\n",
       "      <td>99.000000</td>\n",
       "    </tr>\n",
       "  </tbody>\n",
       "</table>\n",
       "</div>"
      ],
      "text/plain": [
       "         Respondent     CompTotal  ConvertedComp   WorkWeekHrs    CodeRevHrs  \\\n",
       "count  88883.000000  5.594500e+04   5.582300e+04  64503.000000  49790.000000   \n",
       "mean   44442.000000  5.519014e+11   1.271107e+05     42.127197      5.084308   \n",
       "std    25658.456325  7.331926e+13   2.841523e+05     37.287610      5.513931   \n",
       "min        1.000000  0.000000e+00   0.000000e+00      1.000000      0.000000   \n",
       "25%    22221.500000  2.000000e+04   2.577750e+04     40.000000      2.000000   \n",
       "50%    44442.000000  6.200000e+04   5.728700e+04     40.000000      4.000000   \n",
       "75%    66662.500000  1.200000e+05   1.000000e+05     44.750000      6.000000   \n",
       "max    88883.000000  1.000000e+16   2.000000e+06   4850.000000     99.000000   \n",
       "\n",
       "                Age  \n",
       "count  79210.000000  \n",
       "mean      30.336699  \n",
       "std        9.178390  \n",
       "min        1.000000  \n",
       "25%       24.000000  \n",
       "50%       29.000000  \n",
       "75%       35.000000  \n",
       "max       99.000000  "
      ]
     },
     "execution_count": 5,
     "metadata": {},
     "output_type": "execute_result"
    }
   ],
   "source": [
    "df_2019.describe() # Stastical analysis of the data"
   ]
  },
  {
   "cell_type": "code",
   "execution_count": 6,
   "id": "43d1a56b",
   "metadata": {},
   "outputs": [
    {
     "data": {
      "text/plain": [
       "Respondent          0\n",
       "MainBranch        552\n",
       "Hobbyist            0\n",
       "OpenSourcer         0\n",
       "OpenSource       2041\n",
       "                ...  \n",
       "Sexuality       12736\n",
       "Ethnicity       12215\n",
       "Dependents       5824\n",
       "SurveyLength     1899\n",
       "SurveyEase       1802\n",
       "Length: 85, dtype: int64"
      ]
     },
     "execution_count": 6,
     "metadata": {},
     "output_type": "execute_result"
    }
   ],
   "source": [
    "df_2019.isnull().sum() # how many null inside the any column?"
   ]
  },
  {
   "cell_type": "markdown",
   "id": "9451b15d",
   "metadata": {},
   "source": [
    "## Question 1: What are the most used programming languages according to 2019 Stackoverflow survey? "
   ]
  },
  {
   "cell_type": "markdown",
   "id": "33e35d24",
   "metadata": {},
   "source": [
    "### Clean Data"
   ]
  },
  {
   "cell_type": "code",
   "execution_count": 7,
   "id": "56b33dd5",
   "metadata": {},
   "outputs": [
    {
     "data": {
      "text/plain": [
       "0                          HTML/CSS;Java;JavaScript;Python\n",
       "1                                      C++;HTML/CSS;Python\n",
       "2                                                 HTML/CSS\n",
       "3                                      C;C++;C#;Python;SQL\n",
       "4              C++;HTML/CSS;Java;JavaScript;Python;SQL;VBA\n",
       "                               ...                        \n",
       "88878                        HTML/CSS;JavaScript;Other(s):\n",
       "88879                                                  NaN\n",
       "88880                                                  NaN\n",
       "88881                                                  NaN\n",
       "88882    Bash/Shell/PowerShell;HTML/CSS;Java;JavaScript...\n",
       "Name: LanguageWorkedWith, Length: 88883, dtype: object"
      ]
     },
     "execution_count": 7,
     "metadata": {},
     "output_type": "execute_result"
    }
   ],
   "source": [
    "df_2019['LanguageWorkedWith'] # printing LanguageWorkedWith column"
   ]
  },
  {
   "cell_type": "code",
   "execution_count": 8,
   "id": "864ae03c",
   "metadata": {},
   "outputs": [
    {
     "data": {
      "text/plain": [
       "1314"
      ]
     },
     "execution_count": 8,
     "metadata": {},
     "output_type": "execute_result"
    }
   ],
   "source": [
    "df_2019['LanguageWorkedWith'].isnull().sum() # how many nulls in LanguageWorkedWith column?"
   ]
  },
  {
   "cell_type": "code",
   "execution_count": 9,
   "id": "909e69b7",
   "metadata": {},
   "outputs": [],
   "source": [
    "df_1=df_2019.dropna(subset=['LanguageWorkedWith']) # drop any null coluumn"
   ]
  },
  {
   "cell_type": "markdown",
   "id": "ace67196",
   "metadata": {},
   "source": [
    "As we want to see all the languages that used by programmers we have to drop any null value because it would be useless if we kept them"
   ]
  },
  {
   "cell_type": "code",
   "execution_count": 10,
   "id": "f7d248e9",
   "metadata": {},
   "outputs": [
    {
     "data": {
      "text/plain": [
       "0"
      ]
     },
     "execution_count": 10,
     "metadata": {},
     "output_type": "execute_result"
    }
   ],
   "source": [
    "df_1['LanguageWorkedWith'].isnull().sum()# Check if all  null is dropped"
   ]
  },
  {
   "cell_type": "markdown",
   "id": "f45091b0",
   "metadata": {},
   "source": [
    "### Data Modelling "
   ]
  },
  {
   "cell_type": "code",
   "execution_count": 11,
   "id": "3e090636",
   "metadata": {},
   "outputs": [],
   "source": [
    "def split_column(df, column):\n",
    "    '''\n",
    "    Split column by ;,\n",
    "    Then Returns a splited series.\n",
    "    '''\n",
    "    df_copy = df\n",
    "    columnSeries = df_copy[column].apply(lambda x: x.split(';'))\n",
    "    return columnSeries"
   ]
  },
  {
   "cell_type": "code",
   "execution_count": 12,
   "id": "af6d445b",
   "metadata": {},
   "outputs": [],
   "source": [
    "languages=split_column(df_1,'LanguageWorkedWith') # split to make every language alone"
   ]
  },
  {
   "cell_type": "code",
   "execution_count": 13,
   "id": "dd9d4c1e",
   "metadata": {},
   "outputs": [
    {
     "data": {
      "text/plain": [
       "0                     [HTML/CSS, Java, JavaScript, Python]\n",
       "1                                  [C++, HTML/CSS, Python]\n",
       "2                                               [HTML/CSS]\n",
       "3                                [C, C++, C#, Python, SQL]\n",
       "4        [C++, HTML/CSS, Java, JavaScript, Python, SQL,...\n",
       "                               ...                        \n",
       "88875                         [HTML/CSS, Java, JavaScript]\n",
       "88876                       [HTML/CSS, JavaScript, Python]\n",
       "88877    [Bash/Shell/PowerShell, Go, HTML/CSS, JavaScri...\n",
       "88878                    [HTML/CSS, JavaScript, Other(s):]\n",
       "88882    [Bash/Shell/PowerShell, HTML/CSS, Java, JavaSc...\n",
       "Name: LanguageWorkedWith, Length: 87569, dtype: object"
      ]
     },
     "execution_count": 13,
     "metadata": {},
     "output_type": "execute_result"
    }
   ],
   "source": [
    "languages"
   ]
  },
  {
   "cell_type": "code",
   "execution_count": 14,
   "id": "c28379f8",
   "metadata": {},
   "outputs": [],
   "source": [
    "#Just Flating a nested list\n",
    "def flat(array_list):\n",
    "    '''\n",
    "    Flat a nested list,\n",
    "    Then Returns a flat list.\n",
    "    '''\n",
    "    object_list = []\n",
    "    for row in array_list:\n",
    "        for obj in row:\n",
    "            object_list.append(obj.strip())\n",
    "            \n",
    "    return object_list"
   ]
  },
  {
   "cell_type": "code",
   "execution_count": 15,
   "id": "20ca4810",
   "metadata": {},
   "outputs": [],
   "source": [
    "unique_list=flat(languages) # flat the list to make every language alone"
   ]
  },
  {
   "cell_type": "code",
   "execution_count": 16,
   "id": "7795d071",
   "metadata": {},
   "outputs": [],
   "source": [
    "def list_of_group(data_list):\n",
    "    '''\n",
    "    Group by count to a list,\n",
    "    Returns a result dict\n",
    "    '''\n",
    "    grouped_list = dict(Counter(data_list))\n",
    "    grouped_dict = [{'Programming Language':key, 'Count': value} for key, value in grouped_list.items()]\n",
    "    return grouped_dict"
   ]
  },
  {
   "cell_type": "code",
   "execution_count": 17,
   "id": "661d7b6c",
   "metadata": {},
   "outputs": [],
   "source": [
    "dict_languages_used=list_of_group(unique_list) # count how many record for every language "
   ]
  },
  {
   "cell_type": "code",
   "execution_count": 18,
   "id": "ab95cc2b",
   "metadata": {},
   "outputs": [],
   "source": [
    "df_answer1=pd.DataFrame(dict_languages_used) # convert the list to a dataframe"
   ]
  },
  {
   "cell_type": "code",
   "execution_count": 19,
   "id": "a6debacf",
   "metadata": {},
   "outputs": [],
   "source": [
    "top_5=df_answer1.sort_values(by=['Count'],ascending=False).head(5) # printing the firat five rows with decending order"
   ]
  },
  {
   "cell_type": "code",
   "execution_count": 20,
   "id": "a1f3a44c",
   "metadata": {},
   "outputs": [
    {
     "data": {
      "text/html": [
       "<div>\n",
       "<style scoped>\n",
       "    .dataframe tbody tr th:only-of-type {\n",
       "        vertical-align: middle;\n",
       "    }\n",
       "\n",
       "    .dataframe tbody tr th {\n",
       "        vertical-align: top;\n",
       "    }\n",
       "\n",
       "    .dataframe thead th {\n",
       "        text-align: right;\n",
       "    }\n",
       "</style>\n",
       "<table border=\"1\" class=\"dataframe\">\n",
       "  <thead>\n",
       "    <tr style=\"text-align: right;\">\n",
       "      <th></th>\n",
       "      <th>Programming Language</th>\n",
       "      <th>Count</th>\n",
       "    </tr>\n",
       "  </thead>\n",
       "  <tbody>\n",
       "    <tr>\n",
       "      <th>2</th>\n",
       "      <td>JavaScript</td>\n",
       "      <td>59219</td>\n",
       "    </tr>\n",
       "    <tr>\n",
       "      <th>0</th>\n",
       "      <td>HTML/CSS</td>\n",
       "      <td>55466</td>\n",
       "    </tr>\n",
       "    <tr>\n",
       "      <th>7</th>\n",
       "      <td>SQL</td>\n",
       "      <td>47544</td>\n",
       "    </tr>\n",
       "    <tr>\n",
       "      <th>3</th>\n",
       "      <td>Python</td>\n",
       "      <td>36443</td>\n",
       "    </tr>\n",
       "    <tr>\n",
       "      <th>1</th>\n",
       "      <td>Java</td>\n",
       "      <td>35917</td>\n",
       "    </tr>\n",
       "  </tbody>\n",
       "</table>\n",
       "</div>"
      ],
      "text/plain": [
       "  Programming Language  Count\n",
       "2           JavaScript  59219\n",
       "0             HTML/CSS  55466\n",
       "7                  SQL  47544\n",
       "3               Python  36443\n",
       "1                 Java  35917"
      ]
     },
     "execution_count": 20,
     "metadata": {},
     "output_type": "execute_result"
    }
   ],
   "source": [
    "top_5"
   ]
  },
  {
   "cell_type": "code",
   "execution_count": 21,
   "id": "35e70b69",
   "metadata": {},
   "outputs": [],
   "source": [
    "top_5.reset_index(inplace=True) \n"
   ]
  },
  {
   "cell_type": "code",
   "execution_count": 22,
   "id": "d8f5f125",
   "metadata": {},
   "outputs": [],
   "source": [
    "top_5.drop(columns='index',axis=1,inplace=True)"
   ]
  },
  {
   "cell_type": "code",
   "execution_count": 23,
   "id": "7b9fc123",
   "metadata": {},
   "outputs": [],
   "source": [
    "top_5.set_index('Programming Language',inplace=True)"
   ]
  },
  {
   "cell_type": "markdown",
   "id": "517c63c8",
   "metadata": {},
   "source": [
    "### Data Visualization"
   ]
  },
  {
   "cell_type": "code",
   "execution_count": 24,
   "id": "b5ad56c7",
   "metadata": {},
   "outputs": [
    {
     "data": {
      "image/png": "[encoded data removed]",
      "text/plain": [
       "<Figure size 432x288 with 1 Axes>"
      ]
     },
     "metadata": {
      "needs_background": "light"
     },
     "output_type": "display_data"
    }
   ],
   "source": [
    "top_5.plot(kind='bar');"
   ]
  },
  {
   "cell_type": "markdown",
   "id": "7260a876",
   "metadata": {},
   "source": [
    "### Conclusion: <br>\n",
    "<li> We can easily see that  JavaScript is the most used language \n",
    "<li> By looking to the languages we assume that the top responders seems to be web devlopers"
   ]
  },
  {
   "cell_type": "markdown",
   "id": "ea24b9e7",
   "metadata": {},
   "source": [
    "# Question 2 : What are the top 5 countries that pay for programmers?"
   ]
  },
  {
   "cell_type": "markdown",
   "id": "2b19b7c3",
   "metadata": {},
   "source": [
    "### Clean Data"
   ]
  },
  {
   "cell_type": "code",
   "execution_count": 25,
   "id": "e55e514e",
   "metadata": {},
   "outputs": [
    {
     "data": {
      "text/plain": [
       "Index(['Respondent', 'MainBranch', 'Hobbyist', 'OpenSourcer', 'OpenSource',\n",
       "       'Employment', 'Country', 'Student', 'EdLevel', 'UndergradMajor',\n",
       "       'EduOther', 'OrgSize', 'DevType', 'YearsCode', 'Age1stCode',\n",
       "       'YearsCodePro', 'CareerSat', 'JobSat', 'MgrIdiot', 'MgrMoney',\n",
       "       'MgrWant', 'JobSeek', 'LastHireDate', 'LastInt', 'FizzBuzz',\n",
       "       'JobFactors', 'ResumeUpdate', 'CurrencySymbol', 'CurrencyDesc',\n",
       "       'CompTotal', 'CompFreq', 'ConvertedComp', 'WorkWeekHrs', 'WorkPlan',\n",
       "       'WorkChallenge', 'WorkRemote', 'WorkLoc', 'ImpSyn', 'CodeRev',\n",
       "       'CodeRevHrs', 'UnitTests', 'PurchaseHow', 'PurchaseWhat',\n",
       "       'LanguageWorkedWith', 'LanguageDesireNextYear', 'DatabaseWorkedWith',\n",
       "       'DatabaseDesireNextYear', 'PlatformWorkedWith',\n",
       "       'PlatformDesireNextYear', 'WebFrameWorkedWith',\n",
       "       'WebFrameDesireNextYear', 'MiscTechWorkedWith',\n",
       "       'MiscTechDesireNextYear', 'DevEnviron', 'OpSys', 'Containers',\n",
       "       'BlockchainOrg', 'BlockchainIs', 'BetterLife', 'ITperson', 'OffOn',\n",
       "       'SocialMedia', 'Extraversion', 'ScreenName', 'SOVisit1st',\n",
       "       'SOVisitFreq', 'SOVisitTo', 'SOFindAnswer', 'SOTimeSaved',\n",
       "       'SOHowMuchTime', 'SOAccount', 'SOPartFreq', 'SOJobs', 'EntTeams',\n",
       "       'SOComm', 'WelcomeChange', 'SONewContent', 'Age', 'Gender', 'Trans',\n",
       "       'Sexuality', 'Ethnicity', 'Dependents', 'SurveyLength', 'SurveyEase'],\n",
       "      dtype='object')"
      ]
     },
     "execution_count": 25,
     "metadata": {},
     "output_type": "execute_result"
    }
   ],
   "source": [
    "df_2019.columns # printing all the columns"
   ]
  },
  {
   "cell_type": "code",
   "execution_count": 26,
   "id": "42bd7dea",
   "metadata": {},
   "outputs": [],
   "source": [
    "def column_descripton(column_name):\n",
    "    ''''\n",
    "    Input: Column inside Stackoverflow dataset,\n",
    "    Output: The description of the columns. \n",
    "    '''\n",
    "    return df_schema[df_schema['Column']==column_name].QuestionText"
   ]
  },
  {
   "cell_type": "code",
   "execution_count": 27,
   "id": "e4b013c1",
   "metadata": {},
   "outputs": [
    {
     "data": {
      "text/plain": [
       "31    Salary converted to annual USD salaries using ...\n",
       "Name: QuestionText, dtype: object"
      ]
     },
     "execution_count": 27,
     "metadata": {},
     "output_type": "execute_result"
    }
   ],
   "source": [
    "column_descripton('ConvertedComp')"
   ]
  },
  {
   "cell_type": "code",
   "execution_count": 28,
   "id": "ca5cb8f3",
   "metadata": {},
   "outputs": [
    {
     "data": {
      "text/plain": [
       "30    Is that compensation weekly, monthly, or yearly?\n",
       "Name: QuestionText, dtype: object"
      ]
     },
     "execution_count": 28,
     "metadata": {},
     "output_type": "execute_result"
    }
   ],
   "source": [
    "column_descripton('CompFreq')"
   ]
  },
  {
   "cell_type": "code",
   "execution_count": 29,
   "id": "5e926b3c",
   "metadata": {},
   "outputs": [
    {
     "data": {
      "text/plain": [
       "Yearly     31505\n",
       "Monthly    29057\n",
       "Weekly      2706\n",
       "Name: CompFreq, dtype: int64"
      ]
     },
     "execution_count": 29,
     "metadata": {},
     "output_type": "execute_result"
    }
   ],
   "source": [
    "df_2019['CompFreq'].value_counts()"
   ]
  },
  {
   "cell_type": "markdown",
   "id": "48989856",
   "metadata": {},
   "source": [
    "As Converted Comp column is already converted to dollar and it is in Annual income so we can use it directly"
   ]
  },
  {
   "cell_type": "code",
   "execution_count": 30,
   "id": "55c58bf4",
   "metadata": {},
   "outputs": [],
   "source": [
    "df_salary=df_2019[df_2019['ConvertedComp'].isnull()==False]  # dropping null values "
   ]
  },
  {
   "cell_type": "markdown",
   "id": "c9bec8eb",
   "metadata": {},
   "source": [
    "I dropped null value to insure that the we take the average without counting rows that has nulls in salary"
   ]
  },
  {
   "cell_type": "code",
   "execution_count": 31,
   "id": "557a0360",
   "metadata": {},
   "outputs": [],
   "source": [
    "needed_columns= [\n",
    "    'Respondent','Country','CompTotal','CompFreq','ConvertedComp'\n",
    "] "
   ]
  },
  {
   "cell_type": "code",
   "execution_count": 32,
   "id": "f23099be",
   "metadata": {},
   "outputs": [],
   "source": [
    "df_salary=df_salary[needed_columns] # taking the nedded columns"
   ]
  },
  {
   "cell_type": "code",
   "execution_count": 33,
   "id": "b82856b3",
   "metadata": {},
   "outputs": [
    {
     "data": {
      "text/html": [
       "<div>\n",
       "<style scoped>\n",
       "    .dataframe tbody tr th:only-of-type {\n",
       "        vertical-align: middle;\n",
       "    }\n",
       "\n",
       "    .dataframe tbody tr th {\n",
       "        vertical-align: top;\n",
       "    }\n",
       "\n",
       "    .dataframe thead th {\n",
       "        text-align: right;\n",
       "    }\n",
       "</style>\n",
       "<table border=\"1\" class=\"dataframe\">\n",
       "  <thead>\n",
       "    <tr style=\"text-align: right;\">\n",
       "      <th></th>\n",
       "      <th>Respondent</th>\n",
       "      <th>Country</th>\n",
       "      <th>CompTotal</th>\n",
       "      <th>CompFreq</th>\n",
       "      <th>ConvertedComp</th>\n",
       "    </tr>\n",
       "  </thead>\n",
       "  <tbody>\n",
       "    <tr>\n",
       "      <th>2</th>\n",
       "      <td>3</td>\n",
       "      <td>Thailand</td>\n",
       "      <td>23000.0</td>\n",
       "      <td>Monthly</td>\n",
       "      <td>8820.0</td>\n",
       "    </tr>\n",
       "    <tr>\n",
       "      <th>3</th>\n",
       "      <td>4</td>\n",
       "      <td>United States</td>\n",
       "      <td>61000.0</td>\n",
       "      <td>Yearly</td>\n",
       "      <td>61000.0</td>\n",
       "    </tr>\n",
       "    <tr>\n",
       "      <th>5</th>\n",
       "      <td>6</td>\n",
       "      <td>Canada</td>\n",
       "      <td>40000.0</td>\n",
       "      <td>Monthly</td>\n",
       "      <td>366420.0</td>\n",
       "    </tr>\n",
       "    <tr>\n",
       "      <th>8</th>\n",
       "      <td>9</td>\n",
       "      <td>New Zealand</td>\n",
       "      <td>138000.0</td>\n",
       "      <td>Yearly</td>\n",
       "      <td>95179.0</td>\n",
       "    </tr>\n",
       "    <tr>\n",
       "      <th>9</th>\n",
       "      <td>10</td>\n",
       "      <td>India</td>\n",
       "      <td>950000.0</td>\n",
       "      <td>Yearly</td>\n",
       "      <td>13293.0</td>\n",
       "    </tr>\n",
       "    <tr>\n",
       "      <th>...</th>\n",
       "      <td>...</td>\n",
       "      <td>...</td>\n",
       "      <td>...</td>\n",
       "      <td>...</td>\n",
       "      <td>...</td>\n",
       "    </tr>\n",
       "    <tr>\n",
       "      <th>88325</th>\n",
       "      <td>88878</td>\n",
       "      <td>United States</td>\n",
       "      <td>130000.0</td>\n",
       "      <td>Yearly</td>\n",
       "      <td>130000.0</td>\n",
       "    </tr>\n",
       "    <tr>\n",
       "      <th>88326</th>\n",
       "      <td>88879</td>\n",
       "      <td>Finland</td>\n",
       "      <td>6000.0</td>\n",
       "      <td>Monthly</td>\n",
       "      <td>82488.0</td>\n",
       "    </tr>\n",
       "    <tr>\n",
       "      <th>88328</th>\n",
       "      <td>88881</td>\n",
       "      <td>Austria</td>\n",
       "      <td>60000.0</td>\n",
       "      <td>Yearly</td>\n",
       "      <td>68745.0</td>\n",
       "    </tr>\n",
       "    <tr>\n",
       "      <th>88329</th>\n",
       "      <td>88882</td>\n",
       "      <td>Netherlands</td>\n",
       "      <td>42768.0</td>\n",
       "      <td>Monthly</td>\n",
       "      <td>588012.0</td>\n",
       "    </tr>\n",
       "    <tr>\n",
       "      <th>88330</th>\n",
       "      <td>88883</td>\n",
       "      <td>Greece</td>\n",
       "      <td>20000.0</td>\n",
       "      <td>Yearly</td>\n",
       "      <td>22915.0</td>\n",
       "    </tr>\n",
       "  </tbody>\n",
       "</table>\n",
       "<p>55823 rows × 5 columns</p>\n",
       "</div>"
      ],
      "text/plain": [
       "       Respondent        Country  CompTotal CompFreq  ConvertedComp\n",
       "2               3       Thailand    23000.0  Monthly         8820.0\n",
       "3               4  United States    61000.0   Yearly        61000.0\n",
       "5               6         Canada    40000.0  Monthly       366420.0\n",
       "8               9    New Zealand   138000.0   Yearly        95179.0\n",
       "9              10          India   950000.0   Yearly        13293.0\n",
       "...           ...            ...        ...      ...            ...\n",
       "88325       88878  United States   130000.0   Yearly       130000.0\n",
       "88326       88879        Finland     6000.0  Monthly        82488.0\n",
       "88328       88881        Austria    60000.0   Yearly        68745.0\n",
       "88329       88882    Netherlands    42768.0  Monthly       588012.0\n",
       "88330       88883         Greece    20000.0   Yearly        22915.0\n",
       "\n",
       "[55823 rows x 5 columns]"
      ]
     },
     "execution_count": 33,
     "metadata": {},
     "output_type": "execute_result"
    }
   ],
   "source": [
    "df_salary"
   ]
  },
  {
   "cell_type": "markdown",
   "id": "0ad69620",
   "metadata": {},
   "source": [
    "### Data modeling"
   ]
  },
  {
   "cell_type": "code",
   "execution_count": 34,
   "id": "de170b0b",
   "metadata": {},
   "outputs": [
    {
     "data": {
      "text/html": [
       "<div>\n",
       "<style scoped>\n",
       "    .dataframe tbody tr th:only-of-type {\n",
       "        vertical-align: middle;\n",
       "    }\n",
       "\n",
       "    .dataframe tbody tr th {\n",
       "        vertical-align: top;\n",
       "    }\n",
       "\n",
       "    .dataframe thead th {\n",
       "        text-align: right;\n",
       "    }\n",
       "</style>\n",
       "<table border=\"1\" class=\"dataframe\">\n",
       "  <thead>\n",
       "    <tr style=\"text-align: right;\">\n",
       "      <th></th>\n",
       "      <th>Respondent</th>\n",
       "      <th>Country</th>\n",
       "      <th>CompTotal</th>\n",
       "      <th>CompFreq</th>\n",
       "      <th>ConvertedComp</th>\n",
       "    </tr>\n",
       "  </thead>\n",
       "  <tbody>\n",
       "    <tr>\n",
       "      <th>2</th>\n",
       "      <td>3</td>\n",
       "      <td>Thailand</td>\n",
       "      <td>23000.0</td>\n",
       "      <td>Monthly</td>\n",
       "      <td>8820.0</td>\n",
       "    </tr>\n",
       "    <tr>\n",
       "      <th>3</th>\n",
       "      <td>4</td>\n",
       "      <td>United States</td>\n",
       "      <td>61000.0</td>\n",
       "      <td>Yearly</td>\n",
       "      <td>61000.0</td>\n",
       "    </tr>\n",
       "    <tr>\n",
       "      <th>5</th>\n",
       "      <td>6</td>\n",
       "      <td>Canada</td>\n",
       "      <td>40000.0</td>\n",
       "      <td>Monthly</td>\n",
       "      <td>366420.0</td>\n",
       "    </tr>\n",
       "    <tr>\n",
       "      <th>8</th>\n",
       "      <td>9</td>\n",
       "      <td>New Zealand</td>\n",
       "      <td>138000.0</td>\n",
       "      <td>Yearly</td>\n",
       "      <td>95179.0</td>\n",
       "    </tr>\n",
       "    <tr>\n",
       "      <th>9</th>\n",
       "      <td>10</td>\n",
       "      <td>India</td>\n",
       "      <td>950000.0</td>\n",
       "      <td>Yearly</td>\n",
       "      <td>13293.0</td>\n",
       "    </tr>\n",
       "    <tr>\n",
       "      <th>...</th>\n",
       "      <td>...</td>\n",
       "      <td>...</td>\n",
       "      <td>...</td>\n",
       "      <td>...</td>\n",
       "      <td>...</td>\n",
       "    </tr>\n",
       "    <tr>\n",
       "      <th>88325</th>\n",
       "      <td>88878</td>\n",
       "      <td>United States</td>\n",
       "      <td>130000.0</td>\n",
       "      <td>Yearly</td>\n",
       "      <td>130000.0</td>\n",
       "    </tr>\n",
       "    <tr>\n",
       "      <th>88326</th>\n",
       "      <td>88879</td>\n",
       "      <td>Finland</td>\n",
       "      <td>6000.0</td>\n",
       "      <td>Monthly</td>\n",
       "      <td>82488.0</td>\n",
       "    </tr>\n",
       "    <tr>\n",
       "      <th>88328</th>\n",
       "      <td>88881</td>\n",
       "      <td>Austria</td>\n",
       "      <td>60000.0</td>\n",
       "      <td>Yearly</td>\n",
       "      <td>68745.0</td>\n",
       "    </tr>\n",
       "    <tr>\n",
       "      <th>88329</th>\n",
       "      <td>88882</td>\n",
       "      <td>Netherlands</td>\n",
       "      <td>42768.0</td>\n",
       "      <td>Monthly</td>\n",
       "      <td>588012.0</td>\n",
       "    </tr>\n",
       "    <tr>\n",
       "      <th>88330</th>\n",
       "      <td>88883</td>\n",
       "      <td>Greece</td>\n",
       "      <td>20000.0</td>\n",
       "      <td>Yearly</td>\n",
       "      <td>22915.0</td>\n",
       "    </tr>\n",
       "  </tbody>\n",
       "</table>\n",
       "<p>55823 rows × 5 columns</p>\n",
       "</div>"
      ],
      "text/plain": [
       "       Respondent        Country  CompTotal CompFreq  ConvertedComp\n",
       "2               3       Thailand    23000.0  Monthly         8820.0\n",
       "3               4  United States    61000.0   Yearly        61000.0\n",
       "5               6         Canada    40000.0  Monthly       366420.0\n",
       "8               9    New Zealand   138000.0   Yearly        95179.0\n",
       "9              10          India   950000.0   Yearly        13293.0\n",
       "...           ...            ...        ...      ...            ...\n",
       "88325       88878  United States   130000.0   Yearly       130000.0\n",
       "88326       88879        Finland     6000.0  Monthly        82488.0\n",
       "88328       88881        Austria    60000.0   Yearly        68745.0\n",
       "88329       88882    Netherlands    42768.0  Monthly       588012.0\n",
       "88330       88883         Greece    20000.0   Yearly        22915.0\n",
       "\n",
       "[55823 rows x 5 columns]"
      ]
     },
     "execution_count": 34,
     "metadata": {},
     "output_type": "execute_result"
    }
   ],
   "source": [
    "df_salary"
   ]
  },
  {
   "cell_type": "code",
   "execution_count": 35,
   "id": "c2d8a960",
   "metadata": {},
   "outputs": [],
   "source": [
    "df_salary['ConvertedComp']=df_salary['ConvertedComp']"
   ]
  },
  {
   "cell_type": "code",
   "execution_count": 36,
   "id": "34eeaf8d",
   "metadata": {},
   "outputs": [
    {
     "data": {
      "text/html": [
       "<div>\n",
       "<style scoped>\n",
       "    .dataframe tbody tr th:only-of-type {\n",
       "        vertical-align: middle;\n",
       "    }\n",
       "\n",
       "    .dataframe tbody tr th {\n",
       "        vertical-align: top;\n",
       "    }\n",
       "\n",
       "    .dataframe thead th {\n",
       "        text-align: right;\n",
       "    }\n",
       "</style>\n",
       "<table border=\"1\" class=\"dataframe\">\n",
       "  <thead>\n",
       "    <tr style=\"text-align: right;\">\n",
       "      <th></th>\n",
       "      <th>Respondent</th>\n",
       "      <th>Country</th>\n",
       "      <th>CompTotal</th>\n",
       "      <th>CompFreq</th>\n",
       "      <th>ConvertedComp</th>\n",
       "    </tr>\n",
       "  </thead>\n",
       "  <tbody>\n",
       "    <tr>\n",
       "      <th>2</th>\n",
       "      <td>3</td>\n",
       "      <td>Thailand</td>\n",
       "      <td>23000.0</td>\n",
       "      <td>Monthly</td>\n",
       "      <td>8820.0</td>\n",
       "    </tr>\n",
       "    <tr>\n",
       "      <th>3</th>\n",
       "      <td>4</td>\n",
       "      <td>United States</td>\n",
       "      <td>61000.0</td>\n",
       "      <td>Yearly</td>\n",
       "      <td>61000.0</td>\n",
       "    </tr>\n",
       "    <tr>\n",
       "      <th>5</th>\n",
       "      <td>6</td>\n",
       "      <td>Canada</td>\n",
       "      <td>40000.0</td>\n",
       "      <td>Monthly</td>\n",
       "      <td>366420.0</td>\n",
       "    </tr>\n",
       "    <tr>\n",
       "      <th>8</th>\n",
       "      <td>9</td>\n",
       "      <td>New Zealand</td>\n",
       "      <td>138000.0</td>\n",
       "      <td>Yearly</td>\n",
       "      <td>95179.0</td>\n",
       "    </tr>\n",
       "    <tr>\n",
       "      <th>9</th>\n",
       "      <td>10</td>\n",
       "      <td>India</td>\n",
       "      <td>950000.0</td>\n",
       "      <td>Yearly</td>\n",
       "      <td>13293.0</td>\n",
       "    </tr>\n",
       "    <tr>\n",
       "      <th>...</th>\n",
       "      <td>...</td>\n",
       "      <td>...</td>\n",
       "      <td>...</td>\n",
       "      <td>...</td>\n",
       "      <td>...</td>\n",
       "    </tr>\n",
       "    <tr>\n",
       "      <th>88325</th>\n",
       "      <td>88878</td>\n",
       "      <td>United States</td>\n",
       "      <td>130000.0</td>\n",
       "      <td>Yearly</td>\n",
       "      <td>130000.0</td>\n",
       "    </tr>\n",
       "    <tr>\n",
       "      <th>88326</th>\n",
       "      <td>88879</td>\n",
       "      <td>Finland</td>\n",
       "      <td>6000.0</td>\n",
       "      <td>Monthly</td>\n",
       "      <td>82488.0</td>\n",
       "    </tr>\n",
       "    <tr>\n",
       "      <th>88328</th>\n",
       "      <td>88881</td>\n",
       "      <td>Austria</td>\n",
       "      <td>60000.0</td>\n",
       "      <td>Yearly</td>\n",
       "      <td>68745.0</td>\n",
       "    </tr>\n",
       "    <tr>\n",
       "      <th>88329</th>\n",
       "      <td>88882</td>\n",
       "      <td>Netherlands</td>\n",
       "      <td>42768.0</td>\n",
       "      <td>Monthly</td>\n",
       "      <td>588012.0</td>\n",
       "    </tr>\n",
       "    <tr>\n",
       "      <th>88330</th>\n",
       "      <td>88883</td>\n",
       "      <td>Greece</td>\n",
       "      <td>20000.0</td>\n",
       "      <td>Yearly</td>\n",
       "      <td>22915.0</td>\n",
       "    </tr>\n",
       "  </tbody>\n",
       "</table>\n",
       "<p>55823 rows × 5 columns</p>\n",
       "</div>"
      ],
      "text/plain": [
       "       Respondent        Country  CompTotal CompFreq  ConvertedComp\n",
       "2               3       Thailand    23000.0  Monthly         8820.0\n",
       "3               4  United States    61000.0   Yearly        61000.0\n",
       "5               6         Canada    40000.0  Monthly       366420.0\n",
       "8               9    New Zealand   138000.0   Yearly        95179.0\n",
       "9              10          India   950000.0   Yearly        13293.0\n",
       "...           ...            ...        ...      ...            ...\n",
       "88325       88878  United States   130000.0   Yearly       130000.0\n",
       "88326       88879        Finland     6000.0  Monthly        82488.0\n",
       "88328       88881        Austria    60000.0   Yearly        68745.0\n",
       "88329       88882    Netherlands    42768.0  Monthly       588012.0\n",
       "88330       88883         Greece    20000.0   Yearly        22915.0\n",
       "\n",
       "[55823 rows x 5 columns]"
      ]
     },
     "execution_count": 36,
     "metadata": {},
     "output_type": "execute_result"
    }
   ],
   "source": [
    "df_salary"
   ]
  },
  {
   "cell_type": "code",
   "execution_count": 37,
   "id": "9aea77a1",
   "metadata": {},
   "outputs": [],
   "source": [
    "df_salary=df_salary[df_salary['ConvertedComp']!=0.0]"
   ]
  },
  {
   "cell_type": "code",
   "execution_count": 38,
   "id": "df6ccd54",
   "metadata": {},
   "outputs": [],
   "source": [
    "df_coutry_avg_pay=df_salary.groupby('Country')['ConvertedComp'].mean() # taking the average of each country"
   ]
  },
  {
   "cell_type": "code",
   "execution_count": 39,
   "id": "472ed2cd",
   "metadata": {},
   "outputs": [],
   "source": [
    "df_coutry_avg_pay=df_coutry_avg_pay.sort_values(ascending=False)[:5] # sorting the rows \n"
   ]
  },
  {
   "cell_type": "markdown",
   "id": "40145342",
   "metadata": {},
   "source": [
    "### Data Visualization"
   ]
  },
  {
   "cell_type": "code",
   "execution_count": 40,
   "id": "a8aee2a3",
   "metadata": {},
   "outputs": [
    {
     "data": {
      "text/plain": [
       "<AxesSubplot:xlabel='Country'>"
      ]
     },
     "execution_count": 40,
     "metadata": {},
     "output_type": "execute_result"
    },
    {
     "data": {
      "image/png": "[encoded data removed]",
      "text/plain": [
       "<Figure size 432x288 with 1 Axes>"
      ]
     },
     "metadata": {
      "needs_background": "light"
     },
     "output_type": "display_data"
    }
   ],
   "source": [
    "df_coutry_avg_pay.plot(kind='bar')\n"
   ]
  },
  {
   "cell_type": "markdown",
   "id": "ac5361f4",
   "metadata": {},
   "source": [
    "### Conclusion <br>\n",
    "<li> The top 5 countries that have the highest average salary according to the survey are Liechtenstein, San Marino, Ireland, the United States and Swaziland"
   ]
  },
  {
   "cell_type": "markdown",
   "id": "730725ef",
   "metadata": {},
   "source": [
    "# Question 3 : Is money related to satisfaction in the top 5 countries?"
   ]
  },
  {
   "cell_type": "markdown",
   "id": "abe100ff",
   "metadata": {},
   "source": [
    "# Data modeling"
   ]
  },
  {
   "cell_type": "code",
   "execution_count": 41,
   "id": "e7a2164c",
   "metadata": {},
   "outputs": [],
   "source": [
    "df_sats=df_2019[df_2019['JobSat'].isnull()==False] # dropping nulls"
   ]
  },
  {
   "cell_type": "markdown",
   "id": "980c73c8",
   "metadata": {},
   "source": [
    "I dropped null because It is useless to keep any rows that we don't know the satisfaction status of its employee"
   ]
  },
  {
   "cell_type": "code",
   "execution_count": 42,
   "id": "f9c84166",
   "metadata": {},
   "outputs": [],
   "source": [
    "df_sats_top5=df_sats[(df_sats.Country == 'Liechtenstein')| (df_sats.Country == 'San Marino')|\n",
    "                     (df_sats.Country == 'Ireland')| (df_sats.Country == 'United States')|(df_sats.Country == 'Swaziland')]\n",
    "# Taking the record from the top 5 countries "
   ]
  },
  {
   "cell_type": "code",
   "execution_count": 43,
   "id": "29b8f6ac",
   "metadata": {},
   "outputs": [],
   "source": [
    "Columns=[\n",
    "    'Country','JobSat'\n",
    "]"
   ]
  },
  {
   "cell_type": "code",
   "execution_count": 44,
   "id": "ea4d2e8f",
   "metadata": {},
   "outputs": [],
   "source": [
    "df_sats_top5=df_sats_top5[Columns] # taking only the nedded columns"
   ]
  },
  {
   "cell_type": "code",
   "execution_count": 45,
   "id": "5dc0fa16",
   "metadata": {},
   "outputs": [],
   "source": [
    "df_sats_top5=df_sats_top5.groupby('JobSat').count()# Groupping the record according to the sats"
   ]
  },
  {
   "cell_type": "code",
   "execution_count": 46,
   "id": "0894f419",
   "metadata": {},
   "outputs": [
    {
     "data": {
      "text/html": [
       "<div>\n",
       "<style scoped>\n",
       "    .dataframe tbody tr th:only-of-type {\n",
       "        vertical-align: middle;\n",
       "    }\n",
       "\n",
       "    .dataframe tbody tr th {\n",
       "        vertical-align: top;\n",
       "    }\n",
       "\n",
       "    .dataframe thead th {\n",
       "        text-align: right;\n",
       "    }\n",
       "</style>\n",
       "<table border=\"1\" class=\"dataframe\">\n",
       "  <thead>\n",
       "    <tr style=\"text-align: right;\">\n",
       "      <th></th>\n",
       "      <th>Country</th>\n",
       "    </tr>\n",
       "    <tr>\n",
       "      <th>JobSat</th>\n",
       "      <th></th>\n",
       "    </tr>\n",
       "  </thead>\n",
       "  <tbody>\n",
       "    <tr>\n",
       "      <th>Neither satisfied nor dissatisfied</th>\n",
       "      <td>1580</td>\n",
       "    </tr>\n",
       "    <tr>\n",
       "      <th>Slightly dissatisfied</th>\n",
       "      <td>2347</td>\n",
       "    </tr>\n",
       "    <tr>\n",
       "      <th>Slightly satisfied</th>\n",
       "      <td>5713</td>\n",
       "    </tr>\n",
       "    <tr>\n",
       "      <th>Very dissatisfied</th>\n",
       "      <td>1063</td>\n",
       "    </tr>\n",
       "    <tr>\n",
       "      <th>Very satisfied</th>\n",
       "      <td>7321</td>\n",
       "    </tr>\n",
       "  </tbody>\n",
       "</table>\n",
       "</div>"
      ],
      "text/plain": [
       "                                    Country\n",
       "JobSat                                     \n",
       "Neither satisfied nor dissatisfied     1580\n",
       "Slightly dissatisfied                  2347\n",
       "Slightly satisfied                     5713\n",
       "Very dissatisfied                      1063\n",
       "Very satisfied                         7321"
      ]
     },
     "execution_count": 46,
     "metadata": {},
     "output_type": "execute_result"
    }
   ],
   "source": [
    "df_sats_top5"
   ]
  },
  {
   "cell_type": "markdown",
   "id": "2ebd25e3",
   "metadata": {},
   "source": [
    "### Data Visualization"
   ]
  },
  {
   "cell_type": "code",
   "execution_count": 47,
   "id": "2e733ef4",
   "metadata": {},
   "outputs": [
    {
     "data": {
      "image/png": "[encoded data removed]",
      "text/plain": [
       "<Figure size 432x288 with 1 Axes>"
      ]
     },
     "metadata": {
      "needs_background": "light"
     },
     "output_type": "display_data"
    }
   ],
   "source": [
    "df_sats_top5.plot(kind='barh',legend=False);\n"
   ]
  },
  {
   "cell_type": "markdown",
   "id": "ef6fb9d0",
   "metadata": {},
   "source": [
    "### Conclusion <br>\n",
    "<li>By looking at the results we can see that the salary is related to the employee satisfaction\n",
    "<li> It seems that the salary has a huge impact on the employees satisfaction"
   ]
  }
 ],
 "metadata": {
  "kernelspec": {
   "display_name": "Python 3 (ipykernel)",
   "language": "python",
   "name": "python3"
  },
  "language_info": {
   "codemirror_mode": {
    "name": "ipython",
    "version": 3
   },
   "file_extension": ".py",
   "mimetype": "text/x-python",
   "name": "python",
   "nbconvert_exporter": "python",
   "pygments_lexer": "ipython3",
   "version": "3.9.12"
  }
 },
 "nbformat": 4,
 "nbformat_minor": 5
}
